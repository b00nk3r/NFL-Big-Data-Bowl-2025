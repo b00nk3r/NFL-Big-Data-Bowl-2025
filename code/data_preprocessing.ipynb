{
 "cells": [
  {
   "cell_type": "markdown",
   "metadata": {},
   "source": [
    "# Data preprocessing for clustering pre-snap movements"
   ]
  },
  {
   "cell_type": "markdown",
   "metadata": {},
   "source": [
    "## Importing the libraries"
   ]
  },
  {
   "cell_type": "markdown",
   "metadata": {},
   "source": [
    "Here we import all the necessary libraries"
   ]
  },
  {
   "cell_type": "code",
   "execution_count": 1,
   "metadata": {},
   "outputs": [],
   "source": [
    "import pandas as pd"
   ]
  },
  {
   "cell_type": "markdown",
   "metadata": {},
   "source": [
    "## Loading the data"
   ]
  },
  {
   "cell_type": "markdown",
   "metadata": {},
   "source": [
    "First, we need to load all the necessary dataset"
   ]
  },
  {
   "cell_type": "code",
   "execution_count": 2,
   "metadata": {},
   "outputs": [],
   "source": [
    "games = pd.read_csv('data/games.csv') # Game data: contains the teams playing in each game"
   ]
  },
  {
   "cell_type": "code",
   "execution_count": 3,
   "metadata": {},
   "outputs": [],
   "source": [
    "plays = pd.read_csv('data/plays.csv') # Play data: contains play-level information from each game"
   ]
  },
  {
   "cell_type": "code",
   "execution_count": 4,
   "metadata": {},
   "outputs": [],
   "source": [
    "players = pd.read_csv('data/players.csv') # Player data: contains player-level information from players that participated in any of the tracking data files"
   ]
  },
  {
   "cell_type": "code",
   "execution_count": 5,
   "metadata": {},
   "outputs": [],
   "source": [
    "player_play = pd.read_csv('data/player_play.csv') # Player play data: contains player-level stats for each game and play"
   ]
  },
  {
   "cell_type": "code",
   "execution_count": 6,
   "metadata": {},
   "outputs": [],
   "source": [
    "# Tracking data: contains player tracking data from nine weeks.\n",
    "track1 = pd.read_csv('data/tracking_week_1.csv')\n",
    "track2 = pd.read_csv('data/tracking_week_2.csv')\n",
    "track3 = pd.read_csv('data/tracking_week_3.csv')\n",
    "track4 = pd.read_csv('data/tracking_week_4.csv')\n",
    "track5 = pd.read_csv('data/tracking_week_5.csv')\n",
    "track6 = pd.read_csv('data/tracking_week_6.csv')\n",
    "track7 = pd.read_csv('data/tracking_week_7.csv')\n",
    "track8 = pd.read_csv('data/tracking_week_8.csv')\n",
    "track9 = pd.read_csv('data/tracking_week_9.csv')"
   ]
  },
  {
   "cell_type": "markdown",
   "metadata": {},
   "source": [
    "Let's also combine all the tracking data into one file."
   ]
  },
  {
   "cell_type": "code",
   "execution_count": 7,
   "metadata": {},
   "outputs": [],
   "source": [
    "track = pd.concat([track1, track2, track3, track4, track5, track6, track7, track8, track9], ignore_index=True)"
   ]
  }
 ],
 "metadata": {
  "kernelspec": {
   "display_name": "nflevn311",
   "language": "python",
   "name": "python3"
  },
  "language_info": {
   "codemirror_mode": {
    "name": "ipython",
    "version": 3
   },
   "file_extension": ".py",
   "mimetype": "text/x-python",
   "name": "python",
   "nbconvert_exporter": "python",
   "pygments_lexer": "ipython3",
   "version": "3.11.11"
  }
 },
 "nbformat": 4,
 "nbformat_minor": 2
}
