{
 "cells": [
  {
   "cell_type": "markdown",
   "metadata": {},
   "source": [
    "# Data preprocessing for clustering pre-snap movements"
   ]
  },
  {
   "cell_type": "markdown",
   "metadata": {},
   "source": [
    "## Importing the libraries"
   ]
  },
  {
   "cell_type": "markdown",
   "metadata": {},
   "source": [
    "Here we import all the necessary libraries"
   ]
  },
  {
   "cell_type": "code",
   "execution_count": 1,
   "metadata": {},
   "outputs": [],
   "source": [
    "import pandas as pd"
   ]
  },
  {
   "cell_type": "markdown",
   "metadata": {},
   "source": [
    "## Loading the data"
   ]
  },
  {
   "cell_type": "markdown",
   "metadata": {},
   "source": [
    "First, we need to load all the necessary dataset"
   ]
  },
  {
   "cell_type": "code",
   "execution_count": 2,
   "metadata": {},
   "outputs": [],
   "source": [
    "games = pd.read_csv('data/games.csv') # Game data: contains the teams playing in each game"
   ]
  },
  {
   "cell_type": "code",
   "execution_count": 3,
   "metadata": {},
   "outputs": [],
   "source": [
    "plays = pd.read_csv('data/plays.csv') # Play data: contains play-level information from each game"
   ]
  },
  {
   "cell_type": "code",
   "execution_count": 4,
   "metadata": {},
   "outputs": [],
   "source": [
    "players = pd.read_csv('data/players.csv') # Player data: contains player-level information from players that participated in any of the tracking data files"
   ]
  },
  {
   "cell_type": "code",
   "execution_count": 5,
   "metadata": {},
   "outputs": [],
   "source": [
    "player_play = pd.read_csv('data/player_play.csv') # Player play data: contains player-level stats for each game and play"
   ]
  },
  {
   "cell_type": "code",
   "execution_count": 6,
   "metadata": {},
   "outputs": [],
   "source": [
    "# Tracking data: contains player tracking data from nine weeks.\n",
    "track1 = pd.read_csv('data/tracking_week_1.csv')\n",
    "track2 = pd.read_csv('data/tracking_week_2.csv')\n",
    "track3 = pd.read_csv('data/tracking_week_3.csv')\n",
    "track4 = pd.read_csv('data/tracking_week_4.csv')\n",
    "track5 = pd.read_csv('data/tracking_week_5.csv')\n",
    "track6 = pd.read_csv('data/tracking_week_6.csv')\n",
    "track7 = pd.read_csv('data/tracking_week_7.csv')\n",
    "track8 = pd.read_csv('data/tracking_week_8.csv')\n",
    "track9 = pd.read_csv('data/tracking_week_9.csv')"
   ]
  },
  {
   "cell_type": "markdown",
   "metadata": {},
   "source": [
    "Let's also combine all the tracking data into one file."
   ]
  },
  {
   "cell_type": "code",
   "execution_count": 7,
   "metadata": {},
   "outputs": [],
   "source": [
    "track = pd.concat([track1, track2, track3, track4, track5, track6, track7, track8, track9], ignore_index=True)"
   ]
  },
  {
   "cell_type": "markdown",
   "metadata": {},
   "source": [
    "## Adjusting play direction"
   ]
  },
  {
   "cell_type": "markdown",
   "metadata": {},
   "source": [
    "Since we want our data to be consistent, we will adjust play direction, so that all the plays are directed left to right."
   ]
  },
  {
   "cell_type": "code",
   "execution_count": 8,
   "metadata": {},
   "outputs": [],
   "source": [
    "FIELD_LENGTH = 120.0\n",
    "FIELD_WIDTH = 53.3\n",
    "\n",
    "track_adjusted = track\n",
    "\n",
    "left_plays = track['playDirection'] == 'left'\n",
    "\n",
    "# Flip coordinates to the other side of the field\n",
    "track_adjusted.loc[left_plays, 'x'] = FIELD_LENGTH - track_adjusted.loc[left_plays, 'x']\n",
    "track_adjusted.loc[left_plays, 'y'] = FIELD_WIDTH - track_adjusted.loc[left_plays, 'y']\n",
    "\n",
    "# Adjust the directions\n",
    "track_adjusted.loc[left_plays, 'o'] = (360 - track_adjusted.loc[left_plays, 'o']) % 360\n",
    "track_adjusted.loc[left_plays, 'dir'] = (360 - track_adjusted.loc[left_plays, 'dir']) % 360\n",
    "    \n",
    "track_adjusted.loc[left_plays, 'playDirection'] = 'right'\n",
    "\n",
    "track_adjusted.drop(columns=['playDirection'], inplace=True)"
   ]
  },
  {
   "cell_type": "markdown",
   "metadata": {},
   "source": [
    "## Leaving possession team only"
   ]
  },
  {
   "cell_type": "markdown",
   "metadata": {},
   "source": [
    "Since we are interestied only in the offense team pre-snap movemetns, let's remove all the rows that correspond to the defence team from the dataset."
   ]
  },
  {
   "cell_type": "code",
   "execution_count": 10,
   "metadata": {},
   "outputs": [],
   "source": [
    "# Merge 'track_adjusted' with 'plays' to get 'possessionTeam'\n",
    "track_with_possession_team = pd.merge(\n",
    "    track_adjusted,\n",
    "    plays[['gameId', 'playId', 'possessionTeam']],\n",
    "    on=['gameId', 'playId'],\n",
    "    how='left'\n",
    ")"
   ]
  },
  {
   "cell_type": "code",
   "execution_count": 11,
   "metadata": {},
   "outputs": [],
   "source": [
    "# Leave only possession team and football\n",
    "mask = (\n",
    "    (track_with_possession_team['club'] == track_with_possession_team['possessionTeam']) | \n",
    "    (track_with_possession_team['club'].str.lower() == 'football')\n",
    ")\n",
    "\n",
    "track_possession_team_only = track_with_possession_team[mask].copy()"
   ]
  },
  {
   "cell_type": "code",
   "execution_count": 12,
   "metadata": {},
   "outputs": [],
   "source": [
    "track_possession_team_only = track_possession_team_only.drop(columns=['possessionTeam'])"
   ]
  },
  {
   "cell_type": "markdown",
   "metadata": {},
   "source": [
    "## Leaving only actions before snap"
   ]
  },
  {
   "cell_type": "markdown",
   "metadata": {},
   "source": [
    "We are going to work with player movements before snap, so let's leave only corresponding rows in the data."
   ]
  },
  {
   "cell_type": "code",
   "execution_count": 14,
   "metadata": {},
   "outputs": [],
   "source": [
    "track_before = track_possession_team_only[track_possession_team_only['frameType'] == 'BEFORE_SNAP']"
   ]
  },
  {
   "cell_type": "markdown",
   "metadata": {},
   "source": [
    "## Adjusting the coordinates"
   ]
  },
  {
   "cell_type": "markdown",
   "metadata": {},
   "source": [
    "We've already added some consistency to the dataset, but ensuring all the plays are displayed in the same direction. But similar plays can still differ a lot in the coordinates. To take this into account, we will adjust the coordinates based on the ball position."
   ]
  },
  {
   "cell_type": "markdown",
   "metadata": {},
   "source": [
    "Since the ball essentially is not moving before snap, we will take the coordinates of final ball position before snap and adjust the coordinates of all the players in this play to the ball postion. So at the end, the football will have coordinates (0,0). If the player is one yard left of the ball, he will have coordinates (-1, 0) and so on."
   ]
  },
  {
   "cell_type": "markdown",
   "metadata": {},
   "source": [
    "So first, let's get the position of the football."
   ]
  },
  {
   "cell_type": "code",
   "execution_count": 16,
   "metadata": {},
   "outputs": [],
   "source": [
    "ball_presnap = track_before[track_before['nflId'].isna()] # Only ball coordinates"
   ]
  },
  {
   "cell_type": "code",
   "execution_count": 17,
   "metadata": {},
   "outputs": [],
   "source": [
    "ball_final = ball_presnap.groupby(['gameId', 'playId']).tail(1).reset_index(drop=True) # Final position of the ball before snap"
   ]
  },
  {
   "cell_type": "code",
   "execution_count": 18,
   "metadata": {},
   "outputs": [],
   "source": [
    "ball_final = ball_final[['gameId', 'playId', 'x', 'y']] # Leaving only necessary columns"
   ]
  },
  {
   "cell_type": "code",
   "execution_count": 20,
   "metadata": {},
   "outputs": [],
   "source": [
    "ball_position = ball_final[['gameId', 'playId', 'x', 'y']].copy()\n",
    "ball_position.rename(columns={'x': 'ball_x', 'y': 'ball_y'}, inplace=True) # Renaming the columns for future use"
   ]
  },
  {
   "cell_type": "markdown",
   "metadata": {},
   "source": [
    "And now, let's adjust the coordinates."
   ]
  },
  {
   "cell_type": "code",
   "execution_count": 21,
   "metadata": {},
   "outputs": [],
   "source": [
    "track_ball_adjusted = pd.merge(\n",
    "    track_before,\n",
    "    ball_position,\n",
    "    on=['gameId', 'playId'],\n",
    "    how='left'\n",
    ")\n",
    "track_ball_adjusted['x_adjusted'] = track_ball_adjusted['x'] - track_ball_adjusted['ball_x']\n",
    "track_ball_adjusted['y_adjusted'] = track_ball_adjusted['y'] - track_ball_adjusted['ball_y']"
   ]
  },
  {
   "cell_type": "code",
   "execution_count": 22,
   "metadata": {},
   "outputs": [],
   "source": [
    "# Rename adjusted columns\n",
    "track_ball_adjusted['x'] = track_ball_adjusted['x_adjusted']\n",
    "track_ball_adjusted['y'] = track_ball_adjusted['y_adjusted']\n",
    "\n",
    "# Drop unnecessary columns\n",
    "track_ball_adjusted.drop(['x_adjusted', 'y_adjusted', 'ball_x', 'ball_y'], axis=1, inplace=True)"
   ]
  },
  {
   "cell_type": "markdown",
   "metadata": {},
   "source": [
    "Let's just confirm the data looks like we want now."
   ]
  },
  {
   "cell_type": "code",
   "execution_count": 23,
   "metadata": {},
   "outputs": [
    {
     "data": {
      "text/html": [
       "<div>\n",
       "<style scoped>\n",
       "    .dataframe tbody tr th:only-of-type {\n",
       "        vertical-align: middle;\n",
       "    }\n",
       "\n",
       "    .dataframe tbody tr th {\n",
       "        vertical-align: top;\n",
       "    }\n",
       "\n",
       "    .dataframe thead th {\n",
       "        text-align: right;\n",
       "    }\n",
       "</style>\n",
       "<table border=\"1\" class=\"dataframe\">\n",
       "  <thead>\n",
       "    <tr style=\"text-align: right;\">\n",
       "      <th></th>\n",
       "      <th>gameId</th>\n",
       "      <th>playId</th>\n",
       "      <th>nflId</th>\n",
       "      <th>displayName</th>\n",
       "      <th>frameId</th>\n",
       "      <th>frameType</th>\n",
       "      <th>time</th>\n",
       "      <th>jerseyNumber</th>\n",
       "      <th>club</th>\n",
       "      <th>x</th>\n",
       "      <th>y</th>\n",
       "      <th>s</th>\n",
       "      <th>a</th>\n",
       "      <th>dis</th>\n",
       "      <th>o</th>\n",
       "      <th>dir</th>\n",
       "      <th>event</th>\n",
       "    </tr>\n",
       "  </thead>\n",
       "  <tbody>\n",
       "    <tr>\n",
       "      <th>0</th>\n",
       "      <td>2022091200</td>\n",
       "      <td>64</td>\n",
       "      <td>39987.0</td>\n",
       "      <td>Geno Smith</td>\n",
       "      <td>1</td>\n",
       "      <td>BEFORE_SNAP</td>\n",
       "      <td>2022-09-13 00:16:03.5</td>\n",
       "      <td>7.0</td>\n",
       "      <td>SEA</td>\n",
       "      <td>-4.949999</td>\n",
       "      <td>-0.70</td>\n",
       "      <td>0.31</td>\n",
       "      <td>0.31</td>\n",
       "      <td>0.03</td>\n",
       "      <td>44.04</td>\n",
       "      <td>17.42</td>\n",
       "      <td>huddle_break_offense</td>\n",
       "    </tr>\n",
       "    <tr>\n",
       "      <th>1</th>\n",
       "      <td>2022091200</td>\n",
       "      <td>64</td>\n",
       "      <td>39987.0</td>\n",
       "      <td>Geno Smith</td>\n",
       "      <td>2</td>\n",
       "      <td>BEFORE_SNAP</td>\n",
       "      <td>2022-09-13 00:16:03.6</td>\n",
       "      <td>7.0</td>\n",
       "      <td>SEA</td>\n",
       "      <td>-4.939999</td>\n",
       "      <td>-0.66</td>\n",
       "      <td>0.38</td>\n",
       "      <td>0.41</td>\n",
       "      <td>0.04</td>\n",
       "      <td>56.72</td>\n",
       "      <td>19.89</td>\n",
       "      <td>NaN</td>\n",
       "    </tr>\n",
       "    <tr>\n",
       "      <th>2</th>\n",
       "      <td>2022091200</td>\n",
       "      <td>64</td>\n",
       "      <td>39987.0</td>\n",
       "      <td>Geno Smith</td>\n",
       "      <td>3</td>\n",
       "      <td>BEFORE_SNAP</td>\n",
       "      <td>2022-09-13 00:16:03.7</td>\n",
       "      <td>7.0</td>\n",
       "      <td>SEA</td>\n",
       "      <td>-4.929999</td>\n",
       "      <td>-0.62</td>\n",
       "      <td>0.44</td>\n",
       "      <td>0.41</td>\n",
       "      <td>0.04</td>\n",
       "      <td>71.65</td>\n",
       "      <td>19.91</td>\n",
       "      <td>NaN</td>\n",
       "    </tr>\n",
       "    <tr>\n",
       "      <th>3</th>\n",
       "      <td>2022091200</td>\n",
       "      <td>64</td>\n",
       "      <td>39987.0</td>\n",
       "      <td>Geno Smith</td>\n",
       "      <td>4</td>\n",
       "      <td>BEFORE_SNAP</td>\n",
       "      <td>2022-09-13 00:16:03.8</td>\n",
       "      <td>7.0</td>\n",
       "      <td>SEA</td>\n",
       "      <td>-4.909999</td>\n",
       "      <td>-0.58</td>\n",
       "      <td>0.53</td>\n",
       "      <td>0.54</td>\n",
       "      <td>0.05</td>\n",
       "      <td>83.46</td>\n",
       "      <td>24.17</td>\n",
       "      <td>NaN</td>\n",
       "    </tr>\n",
       "    <tr>\n",
       "      <th>4</th>\n",
       "      <td>2022091200</td>\n",
       "      <td>64</td>\n",
       "      <td>39987.0</td>\n",
       "      <td>Geno Smith</td>\n",
       "      <td>5</td>\n",
       "      <td>BEFORE_SNAP</td>\n",
       "      <td>2022-09-13 00:16:03.9</td>\n",
       "      <td>7.0</td>\n",
       "      <td>SEA</td>\n",
       "      <td>-4.879999</td>\n",
       "      <td>-0.53</td>\n",
       "      <td>0.56</td>\n",
       "      <td>0.47</td>\n",
       "      <td>0.05</td>\n",
       "      <td>91.62</td>\n",
       "      <td>27.66</td>\n",
       "      <td>NaN</td>\n",
       "    </tr>\n",
       "  </tbody>\n",
       "</table>\n",
       "</div>"
      ],
      "text/plain": [
       "       gameId  playId    nflId displayName  frameId    frameType  \\\n",
       "0  2022091200      64  39987.0  Geno Smith        1  BEFORE_SNAP   \n",
       "1  2022091200      64  39987.0  Geno Smith        2  BEFORE_SNAP   \n",
       "2  2022091200      64  39987.0  Geno Smith        3  BEFORE_SNAP   \n",
       "3  2022091200      64  39987.0  Geno Smith        4  BEFORE_SNAP   \n",
       "4  2022091200      64  39987.0  Geno Smith        5  BEFORE_SNAP   \n",
       "\n",
       "                    time  jerseyNumber club         x     y     s     a   dis  \\\n",
       "0  2022-09-13 00:16:03.5           7.0  SEA -4.949999 -0.70  0.31  0.31  0.03   \n",
       "1  2022-09-13 00:16:03.6           7.0  SEA -4.939999 -0.66  0.38  0.41  0.04   \n",
       "2  2022-09-13 00:16:03.7           7.0  SEA -4.929999 -0.62  0.44  0.41  0.04   \n",
       "3  2022-09-13 00:16:03.8           7.0  SEA -4.909999 -0.58  0.53  0.54  0.05   \n",
       "4  2022-09-13 00:16:03.9           7.0  SEA -4.879999 -0.53  0.56  0.47  0.05   \n",
       "\n",
       "       o    dir                 event  \n",
       "0  44.04  17.42  huddle_break_offense  \n",
       "1  56.72  19.89                   NaN  \n",
       "2  71.65  19.91                   NaN  \n",
       "3  83.46  24.17                   NaN  \n",
       "4  91.62  27.66                   NaN  "
      ]
     },
     "execution_count": 23,
     "metadata": {},
     "output_type": "execute_result"
    }
   ],
   "source": [
    "track_ball_adjusted.head()"
   ]
  },
  {
   "cell_type": "markdown",
   "metadata": {},
   "source": [
    "## Removing data before line set"
   ]
  },
  {
   "cell_type": "markdown",
   "metadata": {},
   "source": [
    "We will keep only the entries after line set, since everything before it doesn't really has any significance."
   ]
  },
  {
   "cell_type": "code",
   "execution_count": 24,
   "metadata": {},
   "outputs": [],
   "source": [
    "# Get the time of line set\n",
    "line_set_times = (\n",
    "    track_ball_adjusted[track_ball_adjusted['event'] == 'line_set']\n",
    "    .groupby(['gameId', 'playId'])['time']\n",
    "    .min()\n",
    "    .reset_index(name='line_set_time')\n",
    ")"
   ]
  },
  {
   "cell_type": "code",
   "execution_count": 26,
   "metadata": {},
   "outputs": [],
   "source": [
    "track_after_line_set = pd.merge(\n",
    "    track_ball_adjusted, \n",
    "    line_set_times, \n",
    "    on=['gameId', 'playId'], \n",
    "    how='left'\n",
    ")\n",
    "\n",
    "track_after_line_set = track_after_line_set[track_after_line_set['time'] >= track_after_line_set['line_set_time']].copy()"
   ]
  },
  {
   "cell_type": "code",
   "execution_count": 28,
   "metadata": {},
   "outputs": [],
   "source": [
    "track_after_line_set.drop(['line_set_time'], axis=1, inplace=True)"
   ]
  },
  {
   "cell_type": "markdown",
   "metadata": {},
   "source": [
    "## Reducing the number of frames"
   ]
  },
  {
   "cell_type": "markdown",
   "metadata": {},
   "source": [
    "Often players don't start to move right after the line set. So we will keep only the last 50 frmaes (which corresponds to 5 seconds) before the ball snap. This is the reasonable number to still relfect the trajectory of movemnt, at the same time reducing the dataset size. Keeping the number of frames consistent for each situation will also help us when we will go on training the model."
   ]
  },
  {
   "cell_type": "code",
   "execution_count": 30,
   "metadata": {},
   "outputs": [],
   "source": [
    "# Convert 'time' column to  datetime format\n",
    "track_after_line_set['time'] = pd.to_datetime(track_after_line_set['time'], errors='coerce')"
   ]
  },
  {
   "cell_type": "code",
   "execution_count": 32,
   "metadata": {},
   "outputs": [],
   "source": [
    "# Sort frames by time\n",
    "track_after_line_set_sorted = track_after_line_set.sort_values(by=['gameId', 'playId', 'nflId', 'time'], ascending=True)"
   ]
  },
  {
   "cell_type": "code",
   "execution_count": 34,
   "metadata": {},
   "outputs": [],
   "source": [
    "track_after_line_set_grouped = track_after_line_set_sorted.groupby(['gameId', 'playId', 'nflId'])\n",
    "track_after_line_set_50_frames = track_after_line_set_grouped.tail(50).reset_index(drop=True) # LEave only last 50 frames"
   ]
  },
  {
   "cell_type": "markdown",
   "metadata": {},
   "source": [
    "## Detecting pre-snap movements"
   ]
  },
  {
   "cell_type": "markdown",
   "metadata": {},
   "source": [
    "We are interested only in players that moved before ball snap. To be more specific, we are interested at players' motions, and to be even more specific – at motions that don't stop before snap. Luckily, in the 'player_play' dataset we have a column 'inMotionAtBallSnap' that has a boolean value, corresponding to wether the player was at motion at the moment of ball snap. We will use it to leave only such players in our dataset."
   ]
  },
  {
   "cell_type": "code",
   "execution_count": 35,
   "metadata": {},
   "outputs": [],
   "source": [
    "track_with_motion_column = pd.merge(\n",
    "    track_after_line_set_50_frames,\n",
    "    player_play[['gameId', 'playId', 'nflId', 'inMotionAtBallSnap']],\n",
    "    on=['gameId', 'playId', 'nflId'],\n",
    "    how='left'\n",
    ")"
   ]
  },
  {
   "cell_type": "code",
   "execution_count": 39,
   "metadata": {},
   "outputs": [],
   "source": [
    "track_movers = track_with_motion_column[track_with_motion_column['inMotionAtBallSnap'] == True].copy() # LEave only players in motion"
   ]
  },
  {
   "cell_type": "code",
   "execution_count": 40,
   "metadata": {},
   "outputs": [],
   "source": [
    "track_movers.drop(['inMotionAtBallSnap'], axis=1, inplace=True) # Drop unnecessary column"
   ]
  },
  {
   "cell_type": "markdown",
   "metadata": {},
   "source": [
    "## A bit more preprocessing"
   ]
  },
  {
   "cell_type": "markdown",
   "metadata": {},
   "source": [
    "Let's look at the number of moving players at each play."
   ]
  },
  {
   "cell_type": "code",
   "execution_count": 49,
   "metadata": {},
   "outputs": [],
   "source": [
    "# Group by 'gameId' and 'playId' and count unique 'nflId'\n",
    "movers_count = track_movers.groupby(['gameId', 'playId'])['nflId'].nunique().reset_index()"
   ]
  },
  {
   "cell_type": "code",
   "execution_count": 52,
   "metadata": {},
   "outputs": [],
   "source": [
    "# Create a frequency table for 'count' values and rename the columns\n",
    "movers_frequency = movers_count['nflId'].value_counts().sort_index().reset_index()\n",
    "movers_frequency.columns = ['Number of Movers', 'Number of Plays']"
   ]
  },
  {
   "cell_type": "code",
   "execution_count": 53,
   "metadata": {},
   "outputs": [
    {
     "name": "stdout",
     "output_type": "stream",
     "text": [
      "   Number of Movers  Number of Plays\n",
      "0                 1             4372\n",
      "1                 2               60\n",
      "2                 3                5\n",
      "3                 4                2\n",
      "4                 5                4\n"
     ]
    }
   ],
   "source": [
    "# Display the results\n",
    "print(movers_frequency)"
   ]
  },
  {
   "cell_type": "markdown",
   "metadata": {},
   "source": [
    "We can see that most plays have only one mover at the ball snap. Multiple movers (especially high values) may be errors in the data, so for consistency let's just keep the plays with one mover."
   ]
  },
  {
   "cell_type": "code",
   "execution_count": 55,
   "metadata": {},
   "outputs": [],
   "source": [
    "# Rename column\n",
    "movers_count = movers_count.rename(columns={'nflId': 'count'})\n",
    "\n",
    "# Filter movers_count to keep only rows where 'count' equals 1\n",
    "movers_count_1 = movers_count[movers_count['count'] == 1].copy()\n",
    "\n",
    "# Create a unique identifier for filtering (gameId, playId)\n",
    "movers_count_1['key'] = movers_count_1['gameId'].astype(str) + '_' + movers_count_1['playId'].astype(str)\n",
    "track_movers['key'] = track_movers['gameId'].astype(str) + '_' + track_movers['playId'].astype(str)\n",
    "\n",
    "# Filter the movers dataset to keep only rows matching the movers_count_1\n",
    "track_movers_1 = track_movers[track_movers['key'].isin(movers_count_1['key'])].copy()\n",
    "\n",
    "# Drop the 'key' column\n",
    "track_movers_1.drop(columns=['key'], inplace=True)"
   ]
  },
  {
   "cell_type": "markdown",
   "metadata": {},
   "source": [
    "## Dropping unnecessary columns"
   ]
  },
  {
   "cell_type": "markdown",
   "metadata": {},
   "source": [
    "Finally, let's look at the features we still have in the dataset."
   ]
  },
  {
   "cell_type": "code",
   "execution_count": 56,
   "metadata": {},
   "outputs": [
    {
     "data": {
      "text/html": [
       "<div>\n",
       "<style scoped>\n",
       "    .dataframe tbody tr th:only-of-type {\n",
       "        vertical-align: middle;\n",
       "    }\n",
       "\n",
       "    .dataframe tbody tr th {\n",
       "        vertical-align: top;\n",
       "    }\n",
       "\n",
       "    .dataframe thead th {\n",
       "        text-align: right;\n",
       "    }\n",
       "</style>\n",
       "<table border=\"1\" class=\"dataframe\">\n",
       "  <thead>\n",
       "    <tr style=\"text-align: right;\">\n",
       "      <th></th>\n",
       "      <th>gameId</th>\n",
       "      <th>playId</th>\n",
       "      <th>nflId</th>\n",
       "      <th>displayName</th>\n",
       "      <th>frameId</th>\n",
       "      <th>frameType</th>\n",
       "      <th>time</th>\n",
       "      <th>jerseyNumber</th>\n",
       "      <th>club</th>\n",
       "      <th>x</th>\n",
       "      <th>y</th>\n",
       "      <th>s</th>\n",
       "      <th>a</th>\n",
       "      <th>dis</th>\n",
       "      <th>o</th>\n",
       "      <th>dir</th>\n",
       "      <th>event</th>\n",
       "    </tr>\n",
       "  </thead>\n",
       "  <tbody>\n",
       "    <tr>\n",
       "      <th>850</th>\n",
       "      <td>2022090800</td>\n",
       "      <td>80</td>\n",
       "      <td>47857.0</td>\n",
       "      <td>Devin Singletary</td>\n",
       "      <td>40</td>\n",
       "      <td>BEFORE_SNAP</td>\n",
       "      <td>2022-09-09 00:24:28.400</td>\n",
       "      <td>26.0</td>\n",
       "      <td>BUF</td>\n",
       "      <td>-2.399998</td>\n",
       "      <td>-9.88</td>\n",
       "      <td>0.00</td>\n",
       "      <td>0.00</td>\n",
       "      <td>0.0</td>\n",
       "      <td>92.95</td>\n",
       "      <td>83.97</td>\n",
       "      <td>NaN</td>\n",
       "    </tr>\n",
       "    <tr>\n",
       "      <th>851</th>\n",
       "      <td>2022090800</td>\n",
       "      <td>80</td>\n",
       "      <td>47857.0</td>\n",
       "      <td>Devin Singletary</td>\n",
       "      <td>41</td>\n",
       "      <td>BEFORE_SNAP</td>\n",
       "      <td>2022-09-09 00:24:28.500</td>\n",
       "      <td>26.0</td>\n",
       "      <td>BUF</td>\n",
       "      <td>-2.399998</td>\n",
       "      <td>-9.88</td>\n",
       "      <td>0.00</td>\n",
       "      <td>0.00</td>\n",
       "      <td>0.0</td>\n",
       "      <td>92.95</td>\n",
       "      <td>91.04</td>\n",
       "      <td>NaN</td>\n",
       "    </tr>\n",
       "    <tr>\n",
       "      <th>852</th>\n",
       "      <td>2022090800</td>\n",
       "      <td>80</td>\n",
       "      <td>47857.0</td>\n",
       "      <td>Devin Singletary</td>\n",
       "      <td>42</td>\n",
       "      <td>BEFORE_SNAP</td>\n",
       "      <td>2022-09-09 00:24:28.600</td>\n",
       "      <td>26.0</td>\n",
       "      <td>BUF</td>\n",
       "      <td>-2.399998</td>\n",
       "      <td>-9.88</td>\n",
       "      <td>0.00</td>\n",
       "      <td>0.09</td>\n",
       "      <td>0.0</td>\n",
       "      <td>93.56</td>\n",
       "      <td>130.42</td>\n",
       "      <td>NaN</td>\n",
       "    </tr>\n",
       "    <tr>\n",
       "      <th>853</th>\n",
       "      <td>2022090800</td>\n",
       "      <td>80</td>\n",
       "      <td>47857.0</td>\n",
       "      <td>Devin Singletary</td>\n",
       "      <td>43</td>\n",
       "      <td>BEFORE_SNAP</td>\n",
       "      <td>2022-09-09 00:24:28.700</td>\n",
       "      <td>26.0</td>\n",
       "      <td>BUF</td>\n",
       "      <td>-2.389998</td>\n",
       "      <td>-9.88</td>\n",
       "      <td>0.02</td>\n",
       "      <td>0.17</td>\n",
       "      <td>0.0</td>\n",
       "      <td>93.56</td>\n",
       "      <td>123.26</td>\n",
       "      <td>NaN</td>\n",
       "    </tr>\n",
       "    <tr>\n",
       "      <th>854</th>\n",
       "      <td>2022090800</td>\n",
       "      <td>80</td>\n",
       "      <td>47857.0</td>\n",
       "      <td>Devin Singletary</td>\n",
       "      <td>44</td>\n",
       "      <td>BEFORE_SNAP</td>\n",
       "      <td>2022-09-09 00:24:28.800</td>\n",
       "      <td>26.0</td>\n",
       "      <td>BUF</td>\n",
       "      <td>-2.389998</td>\n",
       "      <td>-9.87</td>\n",
       "      <td>0.05</td>\n",
       "      <td>0.27</td>\n",
       "      <td>0.0</td>\n",
       "      <td>93.56</td>\n",
       "      <td>127.13</td>\n",
       "      <td>NaN</td>\n",
       "    </tr>\n",
       "  </tbody>\n",
       "</table>\n",
       "</div>"
      ],
      "text/plain": [
       "         gameId  playId    nflId       displayName  frameId    frameType  \\\n",
       "850  2022090800      80  47857.0  Devin Singletary       40  BEFORE_SNAP   \n",
       "851  2022090800      80  47857.0  Devin Singletary       41  BEFORE_SNAP   \n",
       "852  2022090800      80  47857.0  Devin Singletary       42  BEFORE_SNAP   \n",
       "853  2022090800      80  47857.0  Devin Singletary       43  BEFORE_SNAP   \n",
       "854  2022090800      80  47857.0  Devin Singletary       44  BEFORE_SNAP   \n",
       "\n",
       "                       time  jerseyNumber club         x     y     s     a  \\\n",
       "850 2022-09-09 00:24:28.400          26.0  BUF -2.399998 -9.88  0.00  0.00   \n",
       "851 2022-09-09 00:24:28.500          26.0  BUF -2.399998 -9.88  0.00  0.00   \n",
       "852 2022-09-09 00:24:28.600          26.0  BUF -2.399998 -9.88  0.00  0.09   \n",
       "853 2022-09-09 00:24:28.700          26.0  BUF -2.389998 -9.88  0.02  0.17   \n",
       "854 2022-09-09 00:24:28.800          26.0  BUF -2.389998 -9.87  0.05  0.27   \n",
       "\n",
       "     dis      o     dir event  \n",
       "850  0.0  92.95   83.97   NaN  \n",
       "851  0.0  92.95   91.04   NaN  \n",
       "852  0.0  93.56  130.42   NaN  \n",
       "853  0.0  93.56  123.26   NaN  \n",
       "854  0.0  93.56  127.13   NaN  "
      ]
     },
     "execution_count": 56,
     "metadata": {},
     "output_type": "execute_result"
    }
   ],
   "source": [
    "track_movers_1.head()"
   ]
  },
  {
   "cell_type": "markdown",
   "metadata": {},
   "source": [
    "We will not need 'frameType' and 'event' columns anymore, so let's drop them."
   ]
  },
  {
   "cell_type": "code",
   "execution_count": 57,
   "metadata": {},
   "outputs": [],
   "source": [
    "track_movers_1.drop(columns=['frameType', 'event'], inplace=True)"
   ]
  },
  {
   "cell_type": "markdown",
   "metadata": {},
   "source": [
    "## Saving the dataset"
   ]
  },
  {
   "cell_type": "markdown",
   "metadata": {},
   "source": [
    "After all the preprocessing is done let's save our data."
   ]
  },
  {
   "cell_type": "code",
   "execution_count": 59,
   "metadata": {},
   "outputs": [],
   "source": [
    "track_movers_1.to_csv('data/track_preprocessed.csv', index=False)"
   ]
  }
 ],
 "metadata": {
  "kernelspec": {
   "display_name": "nflevn311",
   "language": "python",
   "name": "python3"
  },
  "language_info": {
   "codemirror_mode": {
    "name": "ipython",
    "version": 3
   },
   "file_extension": ".py",
   "mimetype": "text/x-python",
   "name": "python",
   "nbconvert_exporter": "python",
   "pygments_lexer": "ipython3",
   "version": "3.11.11"
  }
 },
 "nbformat": 4,
 "nbformat_minor": 2
}
